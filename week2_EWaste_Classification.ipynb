{
 "cells": [
  {
   "cell_type": "markdown",
   "id": "c123387b",
   "metadata": {},
   "source": [
    "# 📊 Week 2 - EDA and Evaluation\n",
    "This notebook continues from Week 1 by performing exploratory data analysis (EDA) and deeper model evaluation."
   ]
  },
  {
   "cell_type": "markdown",
   "id": "1cd53189",
   "metadata": {},
   "source": [
    "## 🖼️ Sample Images from Dataset"
   ]
  },
  {
   "cell_type": "code",
   "execution_count": null,
   "id": "dc7666a1",
   "metadata": {},
   "outputs": [],
   "source": [
    "import os\n",
    "import random\n",
    "import matplotlib.pyplot as plt\n",
    "from tensorflow.keras.preprocessing.image import load_img\n",
    "\n",
    "dataset_path = \"dataset/train\"\n",
    "categories = os.listdir(dataset_path)\n",
    "\n",
    "plt.figure(figsize=(12, 8))\n",
    "for i, category in enumerate(categories[:6]):\n",
    "    image_path = os.path.join(dataset_path, category)\n",
    "    img_file = random.choice(os.listdir(image_path))\n",
    "    img = load_img(os.path.join(image_path, img_file))\n",
    "    plt.subplot(2, 3, i + 1)\n",
    "    plt.imshow(img)\n",
    "    plt.title(category)\n",
    "    plt.axis(\"off\")\n",
    "plt.suptitle(\"Sample Images from Each Class\")\n",
    "plt.show()\n"
   ]
  },
  {
   "cell_type": "markdown",
   "id": "7ba885b7",
   "metadata": {},
   "source": [
    "## 📊 Class Distribution"
   ]
  },
  {
   "cell_type": "code",
   "execution_count": null,
   "id": "c1105225",
   "metadata": {},
   "outputs": [],
   "source": [
    "import seaborn as sns\n",
    "import pandas as pd\n",
    "\n",
    "data = []\n",
    "for category in categories:\n",
    "    count = len(os.listdir(os.path.join(dataset_path, category)))\n",
    "    data.append((category, count))\n",
    "\n",
    "df = pd.DataFrame(data, columns=[\"Category\", \"Count\"])\n",
    "sns.barplot(x=\"Category\", y=\"Count\", data=df)\n",
    "plt.xticks(rotation=45)\n",
    "plt.title(\"Class Distribution\")\n",
    "plt.show()\n"
   ]
  },
  {
   "cell_type": "markdown",
   "id": "f63dc0dd",
   "metadata": {},
   "source": [
    "## 🔁 Augmentation Examples (If Applied)"
   ]
  },
  {
   "cell_type": "code",
   "execution_count": null,
   "id": "429e8ccf",
   "metadata": {},
   "outputs": [],
   "source": [
    "from tensorflow.keras.preprocessing.image import ImageDataGenerator, img_to_array\n",
    "from tensorflow.keras.preprocessing import image\n",
    "import numpy as np\n",
    "\n",
    "aug_gen = ImageDataGenerator(rotation_range=20, zoom_range=0.2, horizontal_flip=True)\n",
    "sample_img_path = os.path.join(dataset_path, categories[0], os.listdir(os.path.join(dataset_path, categories[0]))[0])\n",
    "img = load_img(sample_img_path, target_size=(128, 128))\n",
    "x = img_to_array(img)\n",
    "x = x.reshape((1,) + x.shape)\n",
    "\n",
    "plt.figure(figsize=(10, 4))\n",
    "i = 0\n",
    "for batch in aug_gen.flow(x, batch_size=1):\n",
    "    plt.subplot(1, 5, i + 1)\n",
    "    plt.imshow(batch[0] / 255.)\n",
    "    plt.axis('off')\n",
    "    i += 1\n",
    "    if i == 5:\n",
    "        break\n",
    "plt.suptitle(\"Augmented Image Examples\")\n",
    "plt.show()\n"
   ]
  },
  {
   "cell_type": "markdown",
   "id": "e7fe0a54",
   "metadata": {},
   "source": [
    "## 🧪 Confusion Matrix & Classification Report"
   ]
  },
  {
   "cell_type": "code",
   "execution_count": null,
   "id": "3f6a9ff9",
   "metadata": {},
   "outputs": [],
   "source": [
    "from sklearn.metrics import confusion_matrix, classification_report\n",
    "import numpy as np\n",
    "import seaborn as sns\n",
    "\n",
    "y_true = test_data.classes\n",
    "y_pred = model.predict(test_data)\n",
    "y_pred_classes = np.argmax(y_pred, axis=1)\n",
    "\n",
    "print(\"Classification Report:\")\n",
    "print(classification_report(y_true, y_pred_classes, target_names=test_data.class_indices.keys()))\n",
    "\n",
    "# Confusion Matrix\n",
    "cm = confusion_matrix(y_true, y_pred_classes)\n",
    "plt.figure(figsize=(10, 8))\n",
    "sns.heatmap(cm, annot=True, fmt=\"d\", xticklabels=test_data.class_indices.keys(),\n",
    "            yticklabels=test_data.class_indices.keys(), cmap=\"Blues\")\n",
    "plt.xlabel(\"Predicted\")\n",
    "plt.ylabel(\"Actual\")\n",
    "plt.title(\"Confusion Matrix\")\n",
    "plt.show()\n"
   ]
  },
  {
   "cell_type": "markdown",
   "id": "023aaf75",
   "metadata": {},
   "source": [
    "## 🧠 Observations\n",
    "- Add your own analysis and observations here based on the results above."
   ]
  }
 ],
 "metadata": {},
 "nbformat": 4,
 "nbformat_minor": 5
}
