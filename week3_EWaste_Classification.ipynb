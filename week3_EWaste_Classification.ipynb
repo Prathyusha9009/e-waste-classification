{
 "cells": [
  {
   "cell_type": "markdown",
   "id": "0e12fd63",
   "metadata": {},
   "source": [
    "# 🏁 Week 3 - Final Deployment & Project Completion\n",
    "This notebook finalizes the e-waste classification project by saving the model, refining the Gradio demo, and preparing for submission."
   ]
  },
  {
   "cell_type": "markdown",
   "id": "fea3a3dc",
   "metadata": {},
   "source": [
    "## 💾 Save Trained Model"
   ]
  },
  {
   "cell_type": "code",
   "execution_count": null,
   "id": "2340f03e",
   "metadata": {},
   "outputs": [],
   "source": [
    "# Save model in HDF5 format\n",
    "model.save(\"ewaste_classifier_model.h5\")\n",
    "\n",
    "# Optionally, save in TensorFlow's native format\n",
    "model.save(\"ewaste_classifier_model.keras\")\n"
   ]
  },
  {
   "cell_type": "markdown",
   "id": "b829da31",
   "metadata": {},
   "source": [
    "## 🚀 Improved Gradio Interface"
   ]
  },
  {
   "cell_type": "code",
   "execution_count": null,
   "id": "746d0f16",
   "metadata": {},
   "outputs": [],
   "source": [
    "import gradio as gr\n",
    "import numpy as np\n",
    "from tensorflow.keras.preprocessing import image\n",
    "\n",
    "def predict_e_waste(img):\n",
    "    img = img.resize((128, 128))\n",
    "    img_array = image.img_to_array(img)\n",
    "    img_array = np.expand_dims(img_array, axis=0) / 255.0\n",
    "    prediction = model.predict(img_array)\n",
    "    class_index = np.argmax(prediction[0])\n",
    "    return test_data.class_names[class_index]\n",
    "\n",
    "interface = gr.Interface(\n",
    "    fn=predict_e_waste,\n",
    "    inputs=gr.Image(type=\"pil\"),\n",
    "    outputs=gr.Label(num_top_classes=3),\n",
    "    title=\"E-Waste Image Classifier\",\n",
    "    description=\"Upload an e-waste image (Battery, Mobile, Mouse, etc.) to predict its category.\"\n",
    ")\n",
    "\n",
    "interface.launch(debug=False)\n"
   ]
  },
  {
   "cell_type": "markdown",
   "id": "01f292e6",
   "metadata": {},
   "source": [
    "## 📦 Export Requirements (Optional for Hosting)"
   ]
  },
  {
   "cell_type": "code",
   "execution_count": null,
   "id": "059433d7",
   "metadata": {},
   "outputs": [],
   "source": [
    "# Optional: Export list of required packages (for HuggingFace/Streamlit)\n",
    "!pip freeze > requirements.txt\n"
   ]
  },
  {
   "cell_type": "markdown",
   "id": "37cc62e5",
   "metadata": {},
   "source": [
    "## 📘 Project Wrap-Up\n",
    "- All objectives achieved (classification, evaluation, UI demo)\n",
    "- Model performs with high accuracy across 10 e-waste categories\n",
    "- Ready for deployment or internship showcase\n",
    "\n",
    "🎉 **Project 100% Completed!** 🎉"
   ]
  }
 ],
 "metadata": {},
 "nbformat": 4,
 "nbformat_minor": 5
}
